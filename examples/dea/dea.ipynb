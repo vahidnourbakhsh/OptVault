{
 "cells": [
  {
   "attachments": {},
   "cell_type": "markdown",
   "metadata": {
    "application/vnd.databricks.v1+cell": {
     "cellMetadata": {},
     "inputWidgets": {},
     "nuid": "82673a33-ca3e-4b63-9c35-21910f0ea3da",
     "showTitle": false,
     "title": ""
    },
    "id": "S5EVhZ7unFpB"
   },
   "source": [
    "# Efficiency Analysis\n",
    "\n",
    "## Intro\n",
    "\n",
    "Here we use a mathematical model called Data Envelopment Analysis (DEA) to measure efficiency of different Decision Making Units (DMUs) like different departments in an organization, stores of a grocery chain store, branches of a bank.\n",
    "\n",
    "Efficiency is a general concept but here we mathematically define it as:\n",
    "\n",
    "$\\text{efficiency} = \\frac{\\text{outputs}}{\\text{inputs}}$\n",
    "\n",
    "This means for the same amount of inputs (like the number of employees a departments has or the budget a department uses), DMUs that create more output (like revenue, customer satisfaction output, etc.) haver higher efficiency scores.\n",
    "\n",
    "The output term itself can and usually is comprised of different factors like revenue, customer satisfaction score, etc. The interesting thing about DEA is that these outputs could be of different dimensions like money, survey score, etc. Similarly inputs are usually comprised of different factors like the number of employees a department uses, the budget it uses, etc.\n",
    "\n",
    "We solve this problem with Pyomo, an open-source optimization framework."
   ]
  },
  {
   "attachments": {},
   "cell_type": "markdown",
   "metadata": {
    "application/vnd.databricks.v1+cell": {
     "cellMetadata": {},
     "inputWidgets": {},
     "nuid": "93931d9c-6f67-431f-a7c0-26fdc64b3004",
     "showTitle": false,
     "title": ""
    },
    "id": "a3wUZ98jnFpG"
   },
   "source": [
    "## Background\n",
    "\n",
    " The Data Envelopment Analysis (DEA) is a nonparametric problem in operations research and economics whose solution is an estimation of production frontiers. It is used to empirically measure the productive efficiency of decision making units (DMUs). There are a number of linear programming formulations of the DEA problem. Fuller coverage of the subject can be found in Farrell (1957), Charnes et al. (1978) and Thanassoulis et al. (1987). The formulation given by H.P. Williams is described in Land (1991). This formulation is the dual model of a model  commonly used that relies on finding weighted ratios of outputs to inputs. We will use the formulation that is commonly used and can be found in Cooper et al. (2007).\n",
    "\n",
    "The Data Envelopment Analysis has been used to evaluate the performance of many different kinds of entities engaged in many different activities, and in many different contexts in many different countries. Examples include the maintenance activities of U.S. Air Force bases in different geographic locations, or police forces in England and Wales as well as the performance of branch banks in Cyprus and Canada and the efficiency of universities in performing their education and research functions in the U.S., England and France. \n",
    "\n",
    "The DEA approach is concerned with evaluations of *efficiency*. The most common measure of efficiency takes the form of a ratio like the following one:\n",
    "\n",
    "$$\n",
    "\\text{efficiency} = \\frac{\\text{output}}{\\text{input}}\n",
    "$$"
   ]
  },
  {
   "attachments": {},
   "cell_type": "markdown",
   "metadata": {
    "application/vnd.databricks.v1+cell": {
     "cellMetadata": {},
     "inputWidgets": {},
     "nuid": "1e9c2df6-e2ab-4ea1-b38c-8d9b06f97bbd",
     "showTitle": false,
     "title": ""
    },
    "id": "UsYYPu9gnFpG"
   },
   "source": [
    "## Model Formulation\n",
    "\n",
    "Assume there is a set of DMUs. Some common input and output items for each of these DMUs are selected as follows:\n",
    "1. Numerical data are available for each input and output, with the data assumed to be positive, for all DMUs.\n",
    "2. The items (inputs, outputs and choice of DMUs) should reflect an analyst's or a manager's interest in the components that will enter into the relative efficiency evaluations of the DMUs.\n",
    "3. In principle, smaller input amounts are preferable and larger output amounts are preferable so the efficiency scores should reflect these principles.\n",
    "4. The measurement units of the different inputs and outputs do not need to be congruent. Some may involve a number of persons, or areas of floor space, money expended, etc.\n",
    "\n",
    "### Fractional problem formulation\n",
    "The proposed measure of the efficiency of a target DMU $k$ is obtained as the maximum of a ratio of weighted outputs to weighted inputs subject to the condition that the similar ratios for every DMU be less than or equal to one.\n",
    "\n",
    "### Sets and indices\n",
    "\n",
    "$ j,k \\in \\text{DMUS} $: Indices and set of DMUs, where $k$ represents the target DMU.\n",
    "\n",
    "$i \\in \\text{Inputs}$: Index and set of inputs.\n",
    "\n",
    "$r \\in \\text{Outputs}$: Index and set of outputs.\n",
    "\n",
    "### Parameters\n",
    "\n",
    "$\\text{invalue}_{i,j} > 0$: Value of input $i$ for DMU $j$.\n",
    "\n",
    "$\\text{outvalue}_{r,j} > 0$: Value of output $r$ for DMU $j$.\n",
    "\n",
    "### Decision Variables\n",
    "\n",
    "$u_{r} \\geq 0$: Weight of output $r$.\n",
    "\n",
    "$v_{i} \\geq 0$: Weight of input  $i$.\n",
    "\n",
    "### Objective function\n",
    "\n",
    "**Target DMU Efficiency**: Maximize efficiency at the target DMU $k$.\n",
    "\n",
    "$$\n",
    "\\text{Maximize} \\quad E_k = \n",
    "\\frac{\\sum_{r \\in \\text{Outputs}} \\text{outvalue}_{r,k}*u_{r}}{\\sum_{i \\in \\text{Inputs}} \\text{invalue}_{i,k}*v_{i}}\n",
    "\\tag{FP0}\n",
    "$$\n",
    "\n",
    "\n",
    "### Constraints\n",
    "\n",
    "**Efficiency ratios**: The efficiency of a DMU is a number between $[0,1]$.\n",
    "\n",
    "\\begin{equation}\n",
    "\\frac{\\sum_{r \\in \\text{Outputs}} \\text{outvalue}_{r,j}*u_{r}}{\\sum_{i \\in \\text{Inputs}} \\text{invalue}_{i,j}*v_{i}}\n",
    " \\leq 1 \\quad \\forall j \\in \\text{DMUS}\n",
    " \\tag{FP1}\n",
    "\\end{equation}"
   ]
  },
  {
   "attachments": {},
   "cell_type": "markdown",
   "metadata": {
    "application/vnd.databricks.v1+cell": {
     "cellMetadata": {},
     "inputWidgets": {},
     "nuid": "9c645680-d75f-42fd-935b-cf01a7fe7e45",
     "showTitle": false,
     "title": ""
    },
    "id": "cz4DRxIxnFpH"
   },
   "source": [
    "### Linear programming problem formulation\n",
    "\n",
    "This linear programming formulation can be found in the book by Cooper et al. (2007).\n",
    "\n",
    "### Objective function\n",
    "\n",
    "**Target DMU Efficiency**: Maximize efficiency at the target DMU $k$.\n",
    "\n",
    "$$\n",
    "\\text{Maximize} \\quad E_k = \\sum_{r \\in \\text{Outputs}} \\text{outvalue}_{r,k}*u_{r}\n",
    "\\tag{LP0}\n",
    "$$\n",
    "\n",
    "\n",
    "### Constraints\n",
    "\n",
    "**Efficiency ratio**: The efficiency of a DMU is a number between $[0,1]$.\n",
    "\n",
    "\\begin{equation}\n",
    "\\sum_{r \\in \\text{Outputs}} \\text{outvalue}_{r,j}*u_{r} -\n",
    "\\sum_{i \\in \\text{Inputs}} \\text{invalue}_{i,j}*v_{i}\n",
    " \\leq 0  \\quad \\forall j \\in \\text{DMUS}\n",
    "\\tag{LP1}\n",
    "\\end{equation}\n",
    "\n",
    "**Normalization**: This constraint ensures that the denominator of the objective function of the fractional problem is equal to one.\n",
    "\n",
    "\\begin{equation}\n",
    "\\sum_{i \\in \\text{Inputs}} \\text{invalue}_{i,k}*v_{i} = 1 \n",
    "\\tag{LP2}\n",
    "\\end{equation}\n",
    "\n",
    "It is easy to verify that the fractional problem and the linear programming problem are equivalent. Let's assume that the denominator of the efficiency ratio constraints of the fractional problem is positive for all DMUs, then we can obtain the constraints $LP1$ by multiplying both sides of the constraints $FP1$ by the denominator. Next, we set the denominator of $FP0$ eqaul to 1 and define constraint $LP2$, and then maximize the numerator, resulting in the objective function $LP0$.\n",
    "\n",
    "### Definition of efficiency\n",
    "\n",
    "1. $DMU_k$ is efficient if the optimal objective function value $E_{k}^{*} = 1$.\n",
    "2. Otherwise, $DMU_k$ is inefficient."
   ]
  },
  {
   "attachments": {},
   "cell_type": "markdown",
   "metadata": {
    "application/vnd.databricks.v1+cell": {
     "cellMetadata": {},
     "inputWidgets": {},
     "nuid": "cd035c9e-c282-454e-92d3-a820b3e3d91a",
     "showTitle": false,
     "title": ""
    },
    "id": "fX63t_efnFpI"
   },
   "source": [
    "## Problem Description\n",
    "\n",
    "Inputs\n",
    "\n",
    "* engagement survey score\n",
    "* turnover rate\n",
    "\n",
    "Outputs\n",
    "\n",
    "* dollars per basket\n",
    "* basket size\n"
   ]
  },
  {
   "attachments": {},
   "cell_type": "markdown",
   "metadata": {
    "application/vnd.databricks.v1+cell": {
     "cellMetadata": {},
     "inputWidgets": {},
     "nuid": "76b04173-565c-4bad-8a88-e7df5ea32e14",
     "showTitle": false,
     "title": ""
    },
    "id": "CygVTEvQnFpR"
   },
   "source": [
    "## References\n",
    "\n",
    "H. Paul Williams, Model Building in Mathematical Programming, fifth edition.\n",
    "\n",
    "Cooper, W. W, L. M. Seiford, K. Tone. (2007) Data Envelopment Analysis: A Comprehensive Text with Models, Applications, References and DEA-Solver Software. Second edition. Springer-Verlag US.\n",
    "\n",
    "Land, A. (1991) Data envelopment analysis, Chapter 5, in Operations Research in Management (eds S.C. Littlechild and M.F. Shutler), Prentice Hall, London.\n",
    "\n",
    "Farrell, M.J. (1957) The measurement of productive efficiency. Journal of the Royal Statistical Society, Series A, 120, 253–290.\n",
    "\n",
    "Charnes, A., Cooper, W.W. and Rhodes, E. (1978) Measuring the efficiency of decision making units. European Journal of Operational Research, 2, 429–444.\n",
    "\n",
    "Thanassoulis, E., Dyson, R.G. and Foster, M.J. (1987) Relative efficiency assessments using data envelopment analysis: an application to data on rates departments. Journal of the Operational Research Society, 5, 397–411.\n",
    "\n",
    "Copyright © 2020 Gurobi Optimization, LLC"
   ]
  },
  {
   "attachments": {},
   "cell_type": "markdown",
   "metadata": {},
   "source": [
    "# Modeling"
   ]
  },
  {
   "cell_type": "code",
   "execution_count": 1,
   "metadata": {},
   "outputs": [],
   "source": [
    "%load_ext autoreload\n",
    "%autoreload 2\n",
    "\n",
    "import pandas as pd\n",
    "import pyomo.environ as pyo\n",
    "from pyomo.environ import AbstractModel, Set, Param, Var, Objective, Constraint, PositiveReals, NonNegativeReals, Binary, maximize, minimize, inequality, SolverFactory, DataPortal, SolverStatus, TerminationCondition\n",
    "from dea import DEAProgram"
   ]
  },
  {
   "attachments": {},
   "cell_type": "markdown",
   "metadata": {
    "application/vnd.databricks.v1+cell": {
     "cellMetadata": {},
     "inputWidgets": {},
     "nuid": "b6766605-7c2a-4fc3-b7ea-8347206a84de",
     "showTitle": false,
     "title": ""
    }
   },
   "source": [
    "## Modeling with Pyomo"
   ]
  },
  {
   "attachments": {},
   "cell_type": "markdown",
   "metadata": {},
   "source": [
    "### Model Definition"
   ]
  },
  {
   "cell_type": "code",
   "execution_count": 2,
   "metadata": {},
   "outputs": [],
   "source": [
    "program = DEAProgram(\"input_oriented_ccr_model\")"
   ]
  },
  {
   "attachments": {},
   "cell_type": "markdown",
   "metadata": {},
   "source": [
    "### Loading data into an instance and solving the instance\n",
    "After defining the model abstractly we need to add our data to the model, i.e., define values for sets and parameters.\n",
    "We can either use Python bulitins to define the model or we can use read data from `dea.dat` and solve the model with magic commands in terminal."
   ]
  },
  {
   "attachments": {},
   "cell_type": "markdown",
   "metadata": {},
   "source": [
    "#### Using Python builtins"
   ]
  },
  {
   "cell_type": "code",
   "execution_count": 3,
   "metadata": {
    "application/vnd.databricks.v1+cell": {
     "cellMetadata": {
      "byteLimit": 2048000,
      "rowLimit": 10000
     },
     "inputWidgets": {},
     "nuid": "86876c0e-1f9d-47e7-aef8-c94388669426",
     "showTitle": false,
     "title": ""
    }
   },
   "outputs": [],
   "source": [
    "data = {None: {\n",
    "  \"Inputs\": {None: [\"avg_salary\", \"employee_engagement\"]},\n",
    "  \"Outputs\": {None: [\"basket_size\", \"dollars_per_basket\"]},\n",
    "  \"Units\": {None: [1, 2, 3]},\n",
    "  \"target\": {1:0, 2:0, 3:1},\n",
    "  \"invalues\": {(\"avg_salary\", 1): 1, (\"avg_salary\", 2): 1, (\"avg_salary\", 3): 3, \n",
    "                (\"employee_engagement\", 1): 1, (\"employee_engagement\", 2): 1, (\"employee_engagement\", 3): 1},\n",
    "  \"outvalues\": {(\"basket_size\", 1): 10, (\"basket_size\", 2): 5, (\"basket_size\", 3): 5, \n",
    "                (\"dollars_per_basket\", 1): 5, (\"dollars_per_basket\", 2): 10, (\"dollars_per_basket\", 3): 5}\n",
    "  }}"
   ]
  },
  {
   "cell_type": "code",
   "execution_count": 4,
   "metadata": {
    "application/vnd.databricks.v1+cell": {
     "cellMetadata": {
      "byteLimit": 2048000,
      "rowLimit": 10000
     },
     "inputWidgets": {},
     "nuid": "31011f0e-658c-46a0-aeab-96cf7d485cfd",
     "showTitle": false,
     "title": ""
    }
   },
   "outputs": [],
   "source": [
    "model = program.model\n",
    "instance = model.create_instance(data)\n",
    "# instance.pprint()"
   ]
  },
  {
   "cell_type": "code",
   "execution_count": 5,
   "metadata": {
    "application/vnd.databricks.v1+cell": {
     "cellMetadata": {
      "byteLimit": 2048000,
      "rowLimit": 10000
     },
     "inputWidgets": {},
     "nuid": "431d7b3f-f436-4893-9df0-92abac04daff",
     "showTitle": false,
     "title": ""
    }
   },
   "outputs": [
    {
     "name": "stdout",
     "output_type": "stream",
     "text": [
      "Solver status (`ok` means the problem was solved successfully): \n",
      " ok\n"
     ]
    }
   ],
   "source": [
    "# solve\n",
    "solver = SolverFactory('glpk')\n",
    "results = solver.solve(instance)\n",
    "print(f\"Solver status (`ok` means the problem was solved successfully): \\n {results.solver.status}\")"
   ]
  },
  {
   "cell_type": "code",
   "execution_count": 6,
   "metadata": {},
   "outputs": [
    {
     "data": {
      "text/plain": [
       "{'Problem': [{'Name': 'unknown', 'Lower bound': 0.666666666666667, 'Upper bound': 0.666666666666667, 'Number of objectives': 1, 'Number of constraints': 4, 'Number of variables': 4, 'Number of nonzeros': 14, 'Sense': 'maximize'}], 'Solver': [{'Status': 'ok', 'Termination condition': 'optimal', 'Statistics': {'Branch and bound': {'Number of bounded subproblems': 0, 'Number of created subproblems': 0}}, 'Error rc': 0, 'Time': 0.012012004852294922}], 'Solution': [OrderedDict([('number of solutions', 0), ('number of solutions displayed', 0)])]}"
      ]
     },
     "execution_count": 6,
     "metadata": {},
     "output_type": "execute_result"
    }
   ],
   "source": [
    "results"
   ]
  },
  {
   "cell_type": "code",
   "execution_count": 7,
   "metadata": {},
   "outputs": [
    {
     "name": "stdout",
     "output_type": "stream",
     "text": [
      "The efficiency of the target DMU is: 0.666666666666667\n"
     ]
    }
   ],
   "source": [
    "print(f\"The efficiency of the target DMU is: {instance.efficiency()}\")"
   ]
  },
  {
   "attachments": {},
   "cell_type": "markdown",
   "metadata": {},
   "source": [
    "#### Using `dea.dat` and `dea.py`\n",
    "The model defined in `dea.py` is the same model we have defined above.\n",
    "Data in `dea.dat` is in the AMPL data format. This format is very readable too."
   ]
  },
  {
   "cell_type": "code",
   "execution_count": 8,
   "metadata": {},
   "outputs": [
    {
     "name": "stdout",
     "output_type": "stream",
     "text": [
      "[    0.00] Setting up Pyomo environment\n",
      "[    0.00] Applying Pyomo preprocessing actions\n",
      "[    0.00] Creating model\n",
      "[    0.02] Applying solver\n",
      "[    0.04] Processing results\n",
      "    Number of solutions: 1\n",
      "    Solution Information\n",
      "      Gap: 0.0\n",
      "      Status: feasible\n",
      "      Function Value: 0.666666666666667\n",
      "    Solver results file: results.yml\n",
      "[    0.04] Applying Pyomo postprocessing actions\n",
      "[    0.04] Pyomo Finished\n"
     ]
    }
   ],
   "source": [
    "!pyomo solve --solver=glpk input_oriented_ccr_model.py data/dea.dat"
   ]
  },
  {
   "attachments": {},
   "cell_type": "markdown",
   "metadata": {},
   "source": [
    "#### Using TAB files"
   ]
  },
  {
   "cell_type": "code",
   "execution_count": 9,
   "metadata": {},
   "outputs": [
    {
     "name": "stdout",
     "output_type": "stream",
     "text": [
      "[1, 2, 3]\n"
     ]
    }
   ],
   "source": [
    "data = DataPortal()\n",
    "data.load(filename='data/units.tab', set=model.Units, format=\"set\")\n",
    "print(data[\"Units\"])"
   ]
  },
  {
   "cell_type": "code",
   "execution_count": 10,
   "metadata": {},
   "outputs": [
    {
     "name": "stdout",
     "output_type": "stream",
     "text": [
      "['avg_salary', 'employee_engagement']\n"
     ]
    }
   ],
   "source": [
    "data.load(filename='data/inputs.tab', set=model.Inputs, format=\"set\")\n",
    "print(data[\"Inputs\"])"
   ]
  },
  {
   "cell_type": "code",
   "execution_count": 11,
   "metadata": {},
   "outputs": [
    {
     "name": "stdout",
     "output_type": "stream",
     "text": [
      "['basket_size', 'dollars_per_basket']\n"
     ]
    }
   ],
   "source": [
    "data.load(filename='data/outputs.tab', set=model.Outputs, format=\"set\")\n",
    "print(data[\"Outputs\"])"
   ]
  },
  {
   "cell_type": "code",
   "execution_count": 12,
   "metadata": {},
   "outputs": [
    {
     "name": "stdout",
     "output_type": "stream",
     "text": [
      "{1: 0, 2: 0, 3: 1}\n"
     ]
    }
   ],
   "source": [
    "data.load(filename='data/target.tab', param=model.target)\n",
    "print(data[\"target\"])"
   ]
  },
  {
   "cell_type": "code",
   "execution_count": 13,
   "metadata": {},
   "outputs": [
    {
     "name": "stdout",
     "output_type": "stream",
     "text": [
      "{('avg_salary', 1): 1, ('avg_salary', 2): 1, ('avg_salary', 3): 3, ('employee_engagement', 1): 1, ('employee_engagement', 2): 1, ('employee_engagement', 3): 1}\n"
     ]
    }
   ],
   "source": [
    "data.load(filename='data/invalues.tab', param=model.invalues, format='transposed_array')\n",
    "print(data[\"invalues\"])"
   ]
  },
  {
   "cell_type": "code",
   "execution_count": 14,
   "metadata": {},
   "outputs": [
    {
     "name": "stdout",
     "output_type": "stream",
     "text": [
      "{('basket_size', 1): 10, ('basket_size', 2): 5, ('basket_size', 3): 5, ('dollars_per_basket', 1): 5, ('dollars_per_basket', 2): 10, ('dollars_per_basket', 3): 5}\n"
     ]
    }
   ],
   "source": [
    "data.load(filename='data/outvalues.tab', param=model.outvalues, format='transposed_array')\n",
    "print(data[\"outvalues\"])"
   ]
  },
  {
   "cell_type": "code",
   "execution_count": 15,
   "metadata": {},
   "outputs": [],
   "source": [
    "instance = model.create_instance(data)"
   ]
  },
  {
   "cell_type": "code",
   "execution_count": 16,
   "metadata": {
    "application/vnd.databricks.v1+cell": {
     "cellMetadata": {
      "byteLimit": 2048000,
      "rowLimit": 10000
     },
     "inputWidgets": {},
     "nuid": "431d7b3f-f436-4893-9df0-92abac04daff",
     "showTitle": false,
     "title": ""
    }
   },
   "outputs": [
    {
     "name": "stdout",
     "output_type": "stream",
     "text": [
      "Solver status (`ok` means the problem was solved successfully): \n",
      " ok\n"
     ]
    }
   ],
   "source": [
    "# solve\n",
    "solver = SolverFactory('glpk')\n",
    "results = solver.solve(instance)\n",
    "print(f\"Solver status (`ok` means the problem was solved successfully): \\n {results.solver.status}\")"
   ]
  },
  {
   "cell_type": "code",
   "execution_count": 17,
   "metadata": {},
   "outputs": [
    {
     "data": {
      "text/plain": [
       "{'Problem': [{'Name': 'unknown', 'Lower bound': 0.666666666666667, 'Upper bound': 0.666666666666667, 'Number of objectives': 1, 'Number of constraints': 4, 'Number of variables': 4, 'Number of nonzeros': 14, 'Sense': 'maximize'}], 'Solver': [{'Status': 'ok', 'Termination condition': 'optimal', 'Statistics': {'Branch and bound': {'Number of bounded subproblems': 0, 'Number of created subproblems': 0}}, 'Error rc': 0, 'Time': 0.01136159896850586}], 'Solution': [OrderedDict([('number of solutions', 0), ('number of solutions displayed', 0)])]}"
      ]
     },
     "execution_count": 17,
     "metadata": {},
     "output_type": "execute_result"
    }
   ],
   "source": [
    "results"
   ]
  },
  {
   "cell_type": "code",
   "execution_count": 18,
   "metadata": {},
   "outputs": [
    {
     "name": "stdout",
     "output_type": "stream",
     "text": [
      "The efficiency of the target DMU is: 0.666666666666667\n"
     ]
    }
   ],
   "source": [
    "print(f\"The efficiency of the target DMU is: {instance.efficiency()}\")"
   ]
  },
  {
   "attachments": {},
   "cell_type": "markdown",
   "metadata": {},
   "source": [
    "## Input oriented CCR model"
   ]
  },
  {
   "cell_type": "code",
   "execution_count": 19,
   "metadata": {
    "application/vnd.databricks.v1+cell": {
     "cellMetadata": {
      "byteLimit": 2048000,
      "rowLimit": 10000
     },
     "inputWidgets": {},
     "nuid": "86876c0e-1f9d-47e7-aef8-c94388669426",
     "showTitle": false,
     "title": ""
    }
   },
   "outputs": [],
   "source": [
    "data = {None: {\n",
    "  \"Inputs\": {None: [\"avg_salary\", \"employee_engagement\"]},\n",
    "  \"Outputs\": {None: [\"basket_size\", \"dollars_per_basket\"]},\n",
    "  \"Units\": {None: [1, 2, 3]},\n",
    "  \"target\": {1:0, 2:0, 3:1},\n",
    "  \"invalues\": {(\"avg_salary\", 1): 1, (\"avg_salary\", 2): 1, (\"avg_salary\", 3): 3, \n",
    "                (\"employee_engagement\", 1): 1, (\"employee_engagement\", 2): 1, (\"employee_engagement\", 3): 1},\n",
    "  \"outvalues\": {(\"basket_size\", 1): 10, (\"basket_size\", 2): 5, (\"basket_size\", 3): 5, \n",
    "                (\"dollars_per_basket\", 1): 5, (\"dollars_per_basket\", 2): 10, (\"dollars_per_basket\", 3): 5}\n",
    "  }}"
   ]
  },
  {
   "cell_type": "code",
   "execution_count": 20,
   "metadata": {
    "application/vnd.databricks.v1+cell": {
     "cellMetadata": {
      "byteLimit": 2048000,
      "rowLimit": 10000
     },
     "inputWidgets": {},
     "nuid": "31011f0e-658c-46a0-aeab-96cf7d485cfd",
     "showTitle": false,
     "title": ""
    }
   },
   "outputs": [
    {
     "data": {
      "text/plain": [
       "'input_oriented_bcc_model'"
      ]
     },
     "execution_count": 20,
     "metadata": {},
     "output_type": "execute_result"
    }
   ],
   "source": [
    "program = DEAProgram(\"input_oriented_bcc_model\")\n",
    "program.model_type"
   ]
  },
  {
   "cell_type": "code",
   "execution_count": 21,
   "metadata": {},
   "outputs": [],
   "source": [
    "model = program.model\n",
    "instance = model.create_instance(data)\n",
    "# instance.pprint()"
   ]
  },
  {
   "cell_type": "code",
   "execution_count": 22,
   "metadata": {
    "application/vnd.databricks.v1+cell": {
     "cellMetadata": {
      "byteLimit": 2048000,
      "rowLimit": 10000
     },
     "inputWidgets": {},
     "nuid": "431d7b3f-f436-4893-9df0-92abac04daff",
     "showTitle": false,
     "title": ""
    }
   },
   "outputs": [
    {
     "name": "stdout",
     "output_type": "stream",
     "text": [
      "Solver status (`ok` means the problem was solved successfully): \n",
      " ok\n"
     ]
    }
   ],
   "source": [
    "# solve\n",
    "solver = SolverFactory('glpk')\n",
    "results = solver.solve(instance)\n",
    "print(f\"Solver status (`ok` means the problem was solved successfully): \\n {results.solver.status}\")"
   ]
  },
  {
   "cell_type": "code",
   "execution_count": 23,
   "metadata": {},
   "outputs": [
    {
     "data": {
      "text/plain": [
       "{'Problem': [{'Name': 'unknown', 'Lower bound': 0.666666666666667, 'Upper bound': 0.666666666666667, 'Number of objectives': 1, 'Number of constraints': 4, 'Number of variables': 4, 'Number of nonzeros': 14, 'Sense': 'minimize'}], 'Solver': [{'Status': 'ok', 'Termination condition': 'optimal', 'Statistics': {'Branch and bound': {'Number of bounded subproblems': 0, 'Number of created subproblems': 0}}, 'Error rc': 0, 'Time': 0.011891841888427734}], 'Solution': [OrderedDict([('number of solutions', 0), ('number of solutions displayed', 0)])]}"
      ]
     },
     "execution_count": 23,
     "metadata": {},
     "output_type": "execute_result"
    }
   ],
   "source": [
    "results"
   ]
  },
  {
   "cell_type": "code",
   "execution_count": 24,
   "metadata": {},
   "outputs": [
    {
     "name": "stdout",
     "output_type": "stream",
     "text": [
      "The efficiency of the target DMU is: 0.67\n"
     ]
    }
   ],
   "source": [
    "print(f\"The efficiency of the target DMU is: {instance.efficiency():.2f}\")"
   ]
  },
  {
   "cell_type": "code",
   "execution_count": 25,
   "metadata": {},
   "outputs": [
    {
     "name": "stdout",
     "output_type": "stream",
     "text": [
      "0.333333333333333\n",
      "0.333333333333333\n",
      "0.0\n"
     ]
    }
   ],
   "source": [
    "for x in instance.Units: print(instance.lmbda[x].value)"
   ]
  },
  {
   "cell_type": "code",
   "execution_count": 26,
   "metadata": {},
   "outputs": [
    {
     "name": "stdout",
     "output_type": "stream",
     "text": [
      "                     slack\n",
      "avg_salary           -1.33\n",
      "employee_engagement  -0.00\n",
      "basket_size          -0.00\n",
      "dollars_per_basket   -0.00\n"
     ]
    }
   ],
   "source": [
    "print(program.get_constraint_status(instance, data))"
   ]
  },
  {
   "cell_type": "code",
   "execution_count": 27,
   "metadata": {},
   "outputs": [],
   "source": [
    "# Assert that the target DMU can in fact reach to an efficiency of 1 if it decreases it inputs by the efficiency factor we found above.\n",
    "data[None][\"invalues\"][(\"avg_salary\", 3)] *= instance.efficiency()\n",
    "data[None][\"invalues\"][(\"employee_engagement\", 3)] *= instance.efficiency()"
   ]
  },
  {
   "cell_type": "code",
   "execution_count": 28,
   "metadata": {},
   "outputs": [],
   "source": [
    "instance = model.create_instance(data)"
   ]
  },
  {
   "cell_type": "code",
   "execution_count": 29,
   "metadata": {},
   "outputs": [
    {
     "name": "stdout",
     "output_type": "stream",
     "text": [
      "Solver status (`ok` means the problem was solved successfully): \n",
      " ok\n"
     ]
    }
   ],
   "source": [
    "results = solver.solve(instance)\n",
    "print(f\"Solver status (`ok` means the problem was solved successfully): \\n {results.solver.status}\")"
   ]
  },
  {
   "cell_type": "code",
   "execution_count": 30,
   "metadata": {},
   "outputs": [
    {
     "name": "stdout",
     "output_type": "stream",
     "text": [
      "The efficiency of the target DMU after decreasing its inputs : 1.0\n"
     ]
    }
   ],
   "source": [
    "print(f\"The efficiency of the target DMU after decreasing its inputs : {instance.efficiency()}\")"
   ]
  },
  {
   "attachments": {},
   "cell_type": "markdown",
   "metadata": {},
   "source": [
    "## Output oriented CCR model"
   ]
  },
  {
   "cell_type": "code",
   "execution_count": 31,
   "metadata": {
    "application/vnd.databricks.v1+cell": {
     "cellMetadata": {
      "byteLimit": 2048000,
      "rowLimit": 10000
     },
     "inputWidgets": {},
     "nuid": "86876c0e-1f9d-47e7-aef8-c94388669426",
     "showTitle": false,
     "title": ""
    }
   },
   "outputs": [],
   "source": [
    "data = {None: {\n",
    "  \"Inputs\": {None: [\"avg_salary\", \"employee_engagement\"]},\n",
    "  \"Outputs\": {None: [\"basket_size\", \"dollars_per_basket\"]},\n",
    "  \"Units\": {None: [1, 2, 3]},\n",
    "  \"target\": {1:0, 2:0, 3:1},\n",
    "  \"invalues\": {(\"avg_salary\", 1): 1, (\"avg_salary\", 2): 1, (\"avg_salary\", 3): 3, \n",
    "                (\"employee_engagement\", 1): 1, (\"employee_engagement\", 2): 1, (\"employee_engagement\", 3): 1},\n",
    "  \"outvalues\": {(\"basket_size\", 1): 10, (\"basket_size\", 2): 5, (\"basket_size\", 3): 5, \n",
    "                (\"dollars_per_basket\", 1): 5, (\"dollars_per_basket\", 2): 10, (\"dollars_per_basket\", 3): 5}\n",
    "  }}"
   ]
  },
  {
   "cell_type": "code",
   "execution_count": 32,
   "metadata": {
    "application/vnd.databricks.v1+cell": {
     "cellMetadata": {
      "byteLimit": 2048000,
      "rowLimit": 10000
     },
     "inputWidgets": {},
     "nuid": "31011f0e-658c-46a0-aeab-96cf7d485cfd",
     "showTitle": false,
     "title": ""
    }
   },
   "outputs": [
    {
     "data": {
      "text/plain": [
       "'output_oriented_ccr_model'"
      ]
     },
     "execution_count": 32,
     "metadata": {},
     "output_type": "execute_result"
    }
   ],
   "source": [
    "program = DEAProgram(\"output_oriented_ccr_model\")\n",
    "program.model_type"
   ]
  },
  {
   "cell_type": "code",
   "execution_count": 33,
   "metadata": {},
   "outputs": [],
   "source": [
    "model = program.model\n",
    "instance = model.create_instance(data)\n",
    "# instance.pprint()"
   ]
  },
  {
   "cell_type": "code",
   "execution_count": 34,
   "metadata": {
    "application/vnd.databricks.v1+cell": {
     "cellMetadata": {
      "byteLimit": 2048000,
      "rowLimit": 10000
     },
     "inputWidgets": {},
     "nuid": "431d7b3f-f436-4893-9df0-92abac04daff",
     "showTitle": false,
     "title": ""
    }
   },
   "outputs": [
    {
     "name": "stdout",
     "output_type": "stream",
     "text": [
      "Solver status (`ok` means the problem was solved successfully): \n",
      " ok\n"
     ]
    }
   ],
   "source": [
    "# solve\n",
    "solver = SolverFactory('glpk')\n",
    "results = solver.solve(instance)\n",
    "print(f\"Solver status (`ok` means the problem was solved successfully): \\n {results.solver.status}\")"
   ]
  },
  {
   "cell_type": "code",
   "execution_count": 35,
   "metadata": {},
   "outputs": [
    {
     "data": {
      "text/plain": [
       "{'Problem': [{'Name': 'unknown', 'Lower bound': 1.5, 'Upper bound': 1.5, 'Number of objectives': 1, 'Number of constraints': 4, 'Number of variables': 4, 'Number of nonzeros': 14, 'Sense': 'minimize'}], 'Solver': [{'Status': 'ok', 'Termination condition': 'optimal', 'Statistics': {'Branch and bound': {'Number of bounded subproblems': 0, 'Number of created subproblems': 0}}, 'Error rc': 0, 'Time': 0.012154102325439453}], 'Solution': [OrderedDict([('number of solutions', 0), ('number of solutions displayed', 0)])]}"
      ]
     },
     "execution_count": 35,
     "metadata": {},
     "output_type": "execute_result"
    }
   ],
   "source": [
    "results"
   ]
  },
  {
   "cell_type": "code",
   "execution_count": 36,
   "metadata": {},
   "outputs": [
    {
     "name": "stdout",
     "output_type": "stream",
     "text": [
      "The output efficiency of the target DMU is: 1.5.\n"
     ]
    }
   ],
   "source": [
    "# NOTE: for output efficiency the lower the better. Output efficiency of 1 is optimal.\n",
    "# If efficiency is `x`, then a DMU that has an efficiency of `x` can get to the optimal efficiency of 1 \n",
    "# if it increases all of its outputs uniformly by a factor of `x`, where `x` for inefficient DMUs is greater than 1.\n",
    "print(f\"The output efficiency of the target DMU is: {instance.efficiency()}.\")"
   ]
  },
  {
   "cell_type": "code",
   "execution_count": 37,
   "metadata": {},
   "outputs": [],
   "source": [
    "# Assert that the target DMU can in fact reach to an efficiency of 1 if it increases it outputs by the efficiency factor we found above.\n",
    "data[None][\"outvalues\"][(\"basket_size\", 3)] *= instance.efficiency()\n",
    "data[None][\"outvalues\"][(\"dollars_per_basket\", 3)] *= instance.efficiency()"
   ]
  },
  {
   "cell_type": "code",
   "execution_count": 38,
   "metadata": {},
   "outputs": [],
   "source": [
    "instance = model.create_instance(data)"
   ]
  },
  {
   "cell_type": "code",
   "execution_count": 39,
   "metadata": {},
   "outputs": [
    {
     "name": "stdout",
     "output_type": "stream",
     "text": [
      "Solver status (`ok` means the problem was solved successfully): \n",
      " ok\n"
     ]
    }
   ],
   "source": [
    "results = solver.solve(instance)\n",
    "print(f\"Solver status (`ok` means the problem was solved successfully): \\n {results.solver.status}\")"
   ]
  },
  {
   "cell_type": "code",
   "execution_count": 40,
   "metadata": {},
   "outputs": [
    {
     "name": "stdout",
     "output_type": "stream",
     "text": [
      "The efficiency of the target DMU after increasing its outputs : 1.0000000000000002\n"
     ]
    }
   ],
   "source": [
    "print(f\"The efficiency of the target DMU after increasing its outputs : {instance.efficiency()}\")"
   ]
  },
  {
   "attachments": {},
   "cell_type": "markdown",
   "metadata": {},
   "source": [
    "## Input oriented slack model\n",
    "This models enables us to use the slack variables and see how DMUs could improve their efficiency by decreasing their inputs."
   ]
  },
  {
   "cell_type": "code",
   "execution_count": 41,
   "metadata": {},
   "outputs": [],
   "source": [
    "# TODO"
   ]
  }
 ],
 "metadata": {
  "application/vnd.databricks.v1+notebook": {
   "dashboards": [],
   "language": "python",
   "notebookMetadata": {
    "pythonIndentUnit": 2
   },
   "notebookName": "efficiency_analysis_pyomo",
   "widgets": {}
  },
  "colab": {
   "provenance": []
  },
  "interpreter": {
   "hash": "d2d3a49453310c87001720f7711ccf33f988d4479d1272352e3a9510a1d14591"
  },
  "kernelspec": {
   "display_name": "Python 3.9.16 ('opt')",
   "language": "python",
   "name": "python3"
  },
  "language_info": {
   "codemirror_mode": {
    "name": "ipython",
    "version": 3
   },
   "file_extension": ".py",
   "mimetype": "text/x-python",
   "name": "python",
   "nbconvert_exporter": "python",
   "pygments_lexer": "ipython3",
   "version": "3.9.16"
  }
 },
 "nbformat": 4,
 "nbformat_minor": 0
}
