{
 "cells": [
  {
   "cell_type": "code",
   "execution_count": 1,
   "metadata": {},
   "outputs": [],
   "source": [
    "using JuMP, GLPK\n",
    "using Printf"
   ]
  },
  {
   "attachments": {},
   "cell_type": "markdown",
   "metadata": {},
   "source": [
    "The original/main problem we are trying to solve is,\n",
    "\n",
    "\\begin{equation} \\nonumber\n",
    "\\begin{align*}\n",
    "& \\text{(Main)} \\quad  & \\min \\quad & c_1^T x + c_2^T y \\\\\n",
    "&& \\text{s.t. \\quad} & A_1 x + A_2 y \\leq b \\\\\n",
    "&&& x \\in \\mathbb Z_+^{n}\\\\\n",
    "&&& y \\geq 0\n",
    "\\end{align*}\n",
    "\\end{equation}\n",
    "\n",
    "The Sub Problem (SP) is,\n",
    "\\begin{equation} \\nonumber\n",
    "\\begin{align*}\n",
    "& \\text{(SP)} \\quad  & \\min \\quad & c_2^T y \\\\\n",
    "&& \\text{s.t. \\quad} & A_2 y \\leq b - A_1 x\\\\\n",
    "&&& y \\geq 0\n",
    "\\end{align*}\n",
    "\\end{equation}\n",
    "We define $\\theta = c_2^T y$ and $\\theta_k$ is the optimal objective value for a given $x$ ast iteration $k$.\n",
    "\n",
    "The Dual of the Sub Problem (DSP) is,\n",
    "\\begin{equation} \\nonumber\n",
    "\\begin{align*}\n",
    "& \\text{(DSP)} \\quad  & \\max \\quad & (b - A_1 x)^T \\lambda \\\\\n",
    "&& \\text{s.t. \\quad} & A_2^T  \\lambda \\geq C_2 \\\\\n",
    "&&& \\lambda \\geq 0\n",
    "\\end{align*}\n",
    "\\end{equation}\n",
    "\n",
    "\n",
    "The Relaxed Main Problem (RMP) is,\n",
    "\n",
    "\\begin{equation} \\nonumber\n",
    "\\begin{align*}\n",
    "& \\text{(RMP)} \\quad  & \\min \\quad & c_1^T x + \\theta \\\\\n",
    "&& \\text{s.t. \\quad} & \\theta \\geq \\theta^k - \\lambda_k^T A_1 (x - x_k)\\\\\n",
    "&&& x \\in \\mathbb Z_+^{n}\\\\\n",
    "\\end{align*}\n",
    "\\end{equation}\n",
    "Here $x_k$ is the solution vector of the first stage problem at iteration $k$ and similarly $\\lambda_k$ is the solution vector of DSP at iteration $k$. Notice that variable $\\theta$ could be negative. At each iteration we add new cuts of the form $\\theta \\geq \\theta^k - \\lambda_k^T A_1 (x - x_k)$ to our RMP."
   ]
  },
  {
   "attachments": {},
   "cell_type": "markdown",
   "metadata": {},
   "source": [
    "# Data"
   ]
  },
  {
   "cell_type": "code",
   "execution_count": 9,
   "metadata": {},
   "outputs": [],
   "source": [
    "c1 = [1, 4]\n",
    "c2 = [2, 3]\n",
    "b2 = [-2; -3]\n",
    "A1= [1 -3; -1 -3]\n",
    "A2= [1 -2; -1 -1]\n",
    "M = -1000;"
   ]
  },
  {
   "attachments": {},
   "cell_type": "markdown",
   "metadata": {},
   "source": [
    "# Solve the original problem directly \n",
    "Since this is a small problem for illustration purposes we can directly solve the problem without decomposition."
   ]
  },
  {
   "cell_type": "code",
   "execution_count": 10,
   "metadata": {},
   "outputs": [],
   "source": [
    "main = Model(GLPK.Optimizer)\n",
    "@variable(main, 0 <= x[1:2], Int)\n",
    "@variable(main, 0 <= y[1:2])\n",
    "@objective(main, Min, c1' * x + c2' * y)\n",
    "@constraint(main, A1 * x + A2 * y .<= b2);"
   ]
  },
  {
   "cell_type": "code",
   "execution_count": 11,
   "metadata": {},
   "outputs": [],
   "source": [
    "optimize!(main)"
   ]
  },
  {
   "cell_type": "code",
   "execution_count": 12,
   "metadata": {},
   "outputs": [
    {
     "data": {
      "text/plain": [
       "(4.0, [0.0, 1.0], [0.0, 0.0])"
      ]
     },
     "metadata": {},
     "output_type": "display_data"
    }
   ],
   "source": [
    "# final solution\n",
    "objective_value(main), value.(x), value.(y)"
   ]
  },
  {
   "attachments": {},
   "cell_type": "markdown",
   "metadata": {},
   "source": [
    "# Solve Benders decomposition"
   ]
  },
  {
   "cell_type": "code",
   "execution_count": 13,
   "metadata": {},
   "outputs": [],
   "source": [
    "rmp = Model(GLPK.Optimizer)\n",
    "@variable(rmp, 0 <= x[1:2], Int)\n",
    "@variable(rmp, -1000 <= θ) # \\theta is a continuous variable\n",
    "@objective(rmp, Min, c1' * x + θ);\n"
   ]
  },
  {
   "cell_type": "code",
   "execution_count": 14,
   "metadata": {},
   "outputs": [
    {
     "data": {
      "text/plain": [
       "sub (generic function with 1 method)"
      ]
     },
     "metadata": {},
     "output_type": "display_data"
    }
   ],
   "source": [
    "function sub(x)\n",
    "    sub = Model(GLPK.Optimizer)\n",
    "    @variable(sub, 0 <= y[1:2])\n",
    "    @objective(sub, Min, c2' * y)\n",
    "    @constraint(sub, A1 * x + A2 * y .<= b2)\n",
    "    optimize!(sub)\n",
    "    o = objective_value(sub)\n",
    "    y = value.(y)\n",
    "    all_con = all_constraints(sub, AffExpr, MOI.LessThan{Float64})\n",
    "    λ = dual.(all_con)\n",
    "    return Dict(\"o\"=>o, \"y\" => y, \"λ\" => λ)\n",
    "end"
   ]
  },
  {
   "cell_type": "code",
   "execution_count": 15,
   "metadata": {},
   "outputs": [
    {
     "data": {
      "text/plain": [
       "Dict{String, Any} with 3 entries:\n",
       "  \"λ\" => [-0.333333, -2.33333]\n",
       "  \"o\" => 7.66667\n",
       "  \"y\" => [1.33333, 1.66667]"
      ]
     },
     "metadata": {},
     "output_type": "display_data"
    }
   ],
   "source": [
    "sub([0, 0])"
   ]
  },
  {
   "cell_type": "code",
   "execution_count": 16,
   "metadata": {},
   "outputs": [
    {
     "data": {
      "text/plain": [
       "print_iteration (generic function with 1 method)"
      ]
     },
     "metadata": {},
     "output_type": "display_data"
    }
   ],
   "source": [
    "function print_iteration(k, args...)\n",
    "    f(x) = Printf.@sprintf(\"%12.4e\", x)\n",
    "    println(lpad(k, 9), \" \", join(f.(args), \" \"))\n",
    "    return\n",
    "end"
   ]
  },
  {
   "cell_type": "code",
   "execution_count": 17,
   "metadata": {},
   "outputs": [
    {
     "name": "stdout",
     "output_type": "stream",
     "text": [
      "k  lowerbound  upperbound      gap\n"
     ]
    },
    {
     "name": "stdout",
     "output_type": "stream",
     "text": [
      "        1  -1.0000e+03   7.6667e+00   1.3143e+02\n"
     ]
    },
    {
     "name": "stdout",
     "output_type": "stream",
     "text": [
      "        2  -4.9600e+02   1.2630e+03   1.3927e+00\n",
      "        3  -1.0800e+02   8.8800e+02   1.1216e+00\n",
      "        4   4.0000e+00   4.0000e+00   0.0000e+00\n",
      "**We solved the problem to optimimality.**\n"
     ]
    },
    {
     "name": "stderr",
     "output_type": "stream",
     "text": [
      "┌ Info: We are adding this bender cut 2 x[1] + 8 x[2] + θ ≥ 7.666666666666666\n",
      "└ @ Main /home/vahid/code/OptVault/examples/benders_decomposition/benders_decomposition.ipynb:14\n",
      "┌ Info: We are adding this bender cut -1.5 x[1] + 4.5 x[2] + θ ≥ 3\n",
      "└ @ Main /home/vahid/code/OptVault/examples/benders_decomposition/benders_decomposition.ipynb:14\n",
      "┌ Info: We are adding this bender cut θ ≥ 0\n",
      "└ @ Main /home/vahid/code/OptVault/examples/benders_decomposition/benders_decomposition.ipynb:14\n"
     ]
    }
   ],
   "source": [
    "println(\"k  lowerbound  upperbound      gap\")\n",
    "for k in 1:10\n",
    "    optimize!(rmp)\n",
    "    lb = objective_value(rmp)\n",
    "    x_k = value.(x)\n",
    "    ub = c1' * x_k + c2' * sub(x_k)[\"y\"]\n",
    "    gap = (ub - lb)/ ub\n",
    "    print_iteration(k, lb, ub, gap)\n",
    "    if gap < 0.0000001\n",
    "        println(\"**We solved the problem to optimimality.**\")\n",
    "        break\n",
    "    end\n",
    "    benderscut = @constraint(rmp, θ >= sub(x_k)[\"o\"] - (sub(x_k)[\"λ\"])' * A1 * (x .- x_k))\n",
    "    @info \"We are adding this bender cut $(benderscut)\"\n",
    "end"
   ]
  },
  {
   "cell_type": "code",
   "execution_count": 18,
   "metadata": {},
   "outputs": [
    {
     "data": {
      "text/plain": [
       "(4.0, [0.0, 1.0], 0.0)"
      ]
     },
     "metadata": {},
     "output_type": "display_data"
    }
   ],
   "source": [
    "# final solution\n",
    "objective_value(rmp), value.(x), value.(θ)\n",
    "# Benders decomposition solution matches the solution we got from solving the orginal problem directly which verifies our Benders implementation."
   ]
  },
  {
   "attachments": {},
   "cell_type": "markdown",
   "metadata": {},
   "source": [
    "# Solve Benders decomposition (second version)\n",
    "In some textbooks/papers you notice that the Benders cut is slightly different. Particularly instead of this cut,\n",
    "\n",
    "$\\theta \\leq \\theta_k - \\lambda_k^T  A (x - x_k) \\quad (1)$,\n",
    "\n",
    "you would see this cut,\n",
    "\n",
    "$\\theta \\leq \\lambda_k^T (b - A x) \\quad (2)$,\n",
    "\n",
    "where $\\theta_k$ is the solution to the subproblem primal problem at iteration $k$ and $\\lambda_k$ is the dual solution vector.\n",
    "\n",
    "These cuts are equivalent and you should get the same solution. Why are these cuts equivalent?\n",
    "We know that when we solve the subproblem's dual to optimality the strong duality holds between the subproblem and its dual,\n",
    "\n",
    "$\\theta_k = \\lambda_k^T  (b - A  x_k) \\quad(3)$.\n",
    "\n",
    "If we subtract (3) from (1) we get (2),\n",
    "\n",
    "Notice how in constraint (1) we don't see right-hand-side vector $b$.\n"
   ]
  },
  {
   "cell_type": "code",
   "execution_count": 19,
   "metadata": {},
   "outputs": [],
   "source": [
    "rmp2 = Model(GLPK.Optimizer)\n",
    "@variable(rmp2, 0 <= x[1:2], Int)\n",
    "@variable(rmp2, -1000 <= θ) # \\theta is a continuous variable\n",
    "@objective(rmp2, Min, c1' * x + θ);\n"
   ]
  },
  {
   "cell_type": "code",
   "execution_count": 20,
   "metadata": {},
   "outputs": [
    {
     "name": "stdout",
     "output_type": "stream",
     "text": [
      "k  lowerbound  upperbound      gap\n"
     ]
    },
    {
     "name": "stdout",
     "output_type": "stream",
     "text": [
      "        1  -1.0000e+03   7.6667e+00   1.3143e+02\n",
      "        2  -4.9600e+02   1.2630e+03   1.3927e+00\n",
      "        3  -1.0800e+02   8.8800e+02   1.1216e+00\n",
      "        4   4.0000e+00   4.0000e+00   0.0000e+00\n",
      "**We solved the problem to optimimality.**\n"
     ]
    },
    {
     "name": "stderr",
     "output_type": "stream",
     "text": [
      "┌ Info: We are adding this bender cut 2 x[1] + 8 x[2] + θ ≥ 7.666666666666666\n",
      "└ @ Main /home/vahid/code/OptVault/examples/benders_decomposition/benders_decomposition.ipynb:14\n",
      "┌ Info: We are adding this bender cut -1.5 x[1] + 4.5 x[2] + θ ≥ 3\n",
      "└ @ Main /home/vahid/code/OptVault/examples/benders_decomposition/benders_decomposition.ipynb:14\n",
      "┌ Info: We are adding this bender cut θ ≥ 0\n",
      "└ @ Main /home/vahid/code/OptVault/examples/benders_decomposition/benders_decomposition.ipynb:14\n"
     ]
    }
   ],
   "source": [
    "println(\"k  lowerbound  upperbound      gap\")\n",
    "for k in 1:10\n",
    "    optimize!(rmp2)\n",
    "    lb = objective_value(rmp2)\n",
    "    x_k = value.(x)\n",
    "    ub = c1' * x_k + c2' * sub(x_k)[\"y\"]\n",
    "    gap = (ub - lb)/ ub\n",
    "    print_iteration(k, lb, ub, gap)\n",
    "    if gap < 0.0000001\n",
    "        println(\"**We solved the problem to optimimality.**\")\n",
    "        break\n",
    "    end\n",
    "    benderscut = @constraint(rmp2, θ >=  (sub(x_k)[\"λ\"])' * (b2 - A1 * x))\n",
    "    @info \"We are adding this bender cut $(benderscut)\"\n",
    "end"
   ]
  },
  {
   "cell_type": "code",
   "execution_count": 21,
   "metadata": {},
   "outputs": [
    {
     "data": {
      "text/plain": [
       "(4.0, [0.0, 1.0], 0.0)"
      ]
     },
     "metadata": {},
     "output_type": "display_data"
    }
   ],
   "source": [
    "# final solution\n",
    "objective_value(rmp2), value.(x), value.(θ)\n",
    "# Benders decomposition solution matches the solution we got from solving the orginal problem directly which verifies our Benders implementation."
   ]
  },
  {
   "cell_type": "code",
   "execution_count": null,
   "metadata": {},
   "outputs": [],
   "source": []
  }
 ],
 "metadata": {
  "kernelspec": {
   "display_name": "Julia 1.9.2",
   "language": "julia",
   "name": "julia-1.9"
  },
  "language_info": {
   "file_extension": ".jl",
   "mimetype": "application/julia",
   "name": "julia",
   "version": "1.9.2"
  },
  "orig_nbformat": 4
 },
 "nbformat": 4,
 "nbformat_minor": 2
}
