{
 "cells": [
  {
   "cell_type": "code",
   "execution_count": 1,
   "metadata": {},
   "outputs": [],
   "source": [
    "using JuMP, GLPK\n",
    "using Printf"
   ]
  },
  {
   "cell_type": "code",
   "execution_count": 3,
   "metadata": {},
   "outputs": [],
   "source": [
    "c1 = [1, 4]\n",
    "c2 = [2, 3]\n",
    "b2 = [-2; -3]\n",
    "A1= [1 -3; -1 -3]\n",
    "A2= [1 -2; -1 -1]\n",
    "M = -1000;"
   ]
  },
  {
   "cell_type": "code",
   "execution_count": 4,
   "metadata": {},
   "outputs": [
    {
     "data": {
      "text/plain": [
       "A JuMP Model\n",
       "Feasibility problem with:\n",
       "Variables: 0\n",
       "Model mode: AUTOMATIC\n",
       "CachingOptimizer state: EMPTY_OPTIMIZER\n",
       "Solver name: GLPK"
      ]
     },
     "metadata": {},
     "output_type": "display_data"
    }
   ],
   "source": [
    "main = Model(GLPK.Optimizer)\n"
   ]
  },
  {
   "cell_type": "code",
   "execution_count": 5,
   "metadata": {},
   "outputs": [],
   "source": [
    "@variable(main, 0 <= x[1:2], Int)\n",
    "@variable(main, -1000 <= θ) # \\theta is a continouos variable\n",
    "@objective(main, Min, c1' * x + θ);"
   ]
  },
  {
   "cell_type": "code",
   "execution_count": 6,
   "metadata": {},
   "outputs": [
    {
     "data": {
      "text/plain": [
       "sub (generic function with 1 method)"
      ]
     },
     "metadata": {},
     "output_type": "display_data"
    }
   ],
   "source": [
    "function sub(x)\n",
    "    sub = Model(GLPK.Optimizer)\n",
    "    @variable(sub, 0 <= y[1:2])\n",
    "    @objective(sub, Min, c2' * y)\n",
    "    @constraint(sub, A1 * x + A2 * y .<= b2)\n",
    "    optimize!(sub)\n",
    "    o = objective_value(sub)\n",
    "    y = value.(y)\n",
    "    all_con = all_constraints(sub, AffExpr, MOI.LessThan{Float64})\n",
    "    λ = dual.(all_con)\n",
    "    return Dict(\"o\"=>o, \"y\" => y, \"λ\" => λ)\n",
    "end"
   ]
  },
  {
   "cell_type": "code",
   "execution_count": 7,
   "metadata": {},
   "outputs": [
    {
     "data": {
      "text/plain": [
       "Dict{String, Any} with 3 entries:\n",
       "  \"λ\" => [-0.333333, -2.33333]\n",
       "  \"o\" => 7.66667\n",
       "  \"y\" => [1.33333, 1.66667]"
      ]
     },
     "metadata": {},
     "output_type": "display_data"
    }
   ],
   "source": [
    "sub([0, 0])"
   ]
  },
  {
   "cell_type": "code",
   "execution_count": 11,
   "metadata": {},
   "outputs": [
    {
     "data": {
      "text/plain": [
       "print_iteration (generic function with 1 method)"
      ]
     },
     "metadata": {},
     "output_type": "display_data"
    }
   ],
   "source": [
    "function print_iteration(k, args...)\n",
    "    f(x) = Printf.@sprintf(\"%12.4e\", x)\n",
    "    println(lpad(k, 9), \" \", join(f.(args), \" \"))\n",
    "    return\n",
    "end"
   ]
  },
  {
   "cell_type": "code",
   "execution_count": 12,
   "metadata": {},
   "outputs": [
    {
     "name": "stdout",
     "output_type": "stream",
     "text": [
      "k  lowerbound  upperbound      gap\n"
     ]
    },
    {
     "name": "stdout",
     "output_type": "stream",
     "text": [
      "        1  -1.0000e+03   7.6667e+00   1.3143e+02\n"
     ]
    },
    {
     "name": "stdout",
     "output_type": "stream",
     "text": [
      "        2  -4.9600e+02   1.2630e+03   1.3927e+00\n",
      "        3  -1.0800e+02   8.8800e+02   1.1216e+00\n",
      "        4   4.0000e+00   4.0000e+00   0.0000e+00\n",
      "**We solved the problem to optimimality.**\n"
     ]
    },
    {
     "name": "stderr",
     "output_type": "stream",
     "text": [
      "┌ Info: We are adding this bender cut 2 x[1] + 8 x[2] + θ ≥ 7.666666666666666\n",
      "└ @ Main /home/vahid/code/JuMP-workspace/benders_decomposition.ipynb:14\n",
      "┌ Info: We are adding this bender cut -1.5 x[1] + 4.5 x[2] + θ ≥ 3\n",
      "└ @ Main /home/vahid/code/JuMP-workspace/benders_decomposition.ipynb:14\n",
      "┌ Info: We are adding this bender cut θ ≥ 0\n",
      "└ @ Main /home/vahid/code/JuMP-workspace/benders_decomposition.ipynb:14\n"
     ]
    }
   ],
   "source": [
    "println(\"k  lowerbound  upperbound      gap\")\n",
    "for k in 1:10\n",
    "    optimize!(main)\n",
    "    lb = objective_value(main)\n",
    "    x_k = value.(x)\n",
    "    ub = c1' * x_k + c2' * sub(x_k)[\"y\"]\n",
    "    gap = (ub - lb)/ ub\n",
    "    print_iteration(k, lb, ub, gap)\n",
    "    if gap < 0.0000001\n",
    "        println(\"**We solved the problem to optimimality.**\")\n",
    "        break\n",
    "    end\n",
    "    benderscut = @constraint(main, θ >= sub(x_k)[\"o\"] - (sub(x_k)[\"λ\"])' * A1 * (x .- x_k))\n",
    "    @info \"We are adding this bender cut $(benderscut)\"\n",
    "end"
   ]
  },
  {
   "cell_type": "code",
   "execution_count": null,
   "metadata": {},
   "outputs": [],
   "source": []
  }
 ],
 "metadata": {
  "kernelspec": {
   "display_name": "Julia 1.9.2",
   "language": "julia",
   "name": "julia-1.9"
  },
  "language_info": {
   "file_extension": ".jl",
   "mimetype": "application/julia",
   "name": "julia",
   "version": "1.9.2"
  },
  "orig_nbformat": 4
 },
 "nbformat": 4,
 "nbformat_minor": 2
}
